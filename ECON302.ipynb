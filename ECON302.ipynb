{
 "cells": [
  {
   "cell_type": "markdown",
   "metadata": {},
   "source": [
    "## Lecture 1\n",
    "\n",
    "** Nominal GDP ** : Market value in current prices of final goods and services produced within a nation's border during a fixed period of time \n",
    "\n",
    "** Real GDP ** : The market value in base year prices of final goods and services produced within a nation's border during a fixed period of time \n",
    "\n",
    "Growth Rate computation: \n",
    "$$ \\text{ growth rate} = \\frac{\\text{new - old}}{\\text{old}}$$\n",
    "\n",
    "Log Approximation of growth rate: $ \\ln\\text{(new)} - \\ln\\text{(old)} $ "
   ]
  },
  {
   "cell_type": "markdown",
   "metadata": {},
   "source": [
    "## Lecture 2 \n",
    "\n",
    "** Income Approach **: Value of all final goods and services generates income to someone in the production process (Add income received by all producers of output; includes wages for workers, profits for firms)\n",
    "\n",
    "** Expenditure Approach** : Final goods and services being produces are bought by somebody\n",
    "\n",
    "** Product Approach**: Value of all final goods/services = sum of value at each stage of production (add market value of all goods/services produced minus market value of intermediate goods) \n"
   ]
  },
  {
   "cell_type": "markdown",
   "metadata": {},
   "source": [
    "$$ Y = GDP = C + I + G + (X-M) $$\n",
    "\n",
    "$$ GNP = GDP + NFP $$ \n",
    "\n",
    "Private Saving = $S_{pvt} = (Y + NFP - T + TR + INT) - C$ \n",
    "\n",
    "Govn't Saving = $S_{gvt} = (T- TR - INT) - G $ \n",
    "\n",
    "National Saving = $ S = S_{pvt} + S_{gvt} = Y + NFP - C - G $ "
   ]
  },
  {
   "cell_type": "markdown",
   "metadata": {},
   "source": [
    "$ S = I + (NX + NFP) = I + CA, \\text{since} \\space CA = NX + NFP $ \n",
    "\n",
    "$\\rightarrow S_{pvt} = I +(-S_{gvt}) + CA$"
   ]
  },
  {
   "cell_type": "markdown",
   "metadata": {},
   "source": [
    "Consumer Price Index\n",
    "\n",
    "Pros: Faster at collecting GDP data \n",
    "\n",
    "Cons: Basket of goods change over time, invention of new technology, quality improvements"
   ]
  },
  {
   "cell_type": "markdown",
   "metadata": {},
   "source": [
    "$ \\text{Inflation} = \\pi_{t} = \\frac{p_{t} - p_{t-1}}{p_{t-1}} ~ \\ln(p_{t}) - \\ln(p_{t-1})$\n",
    "\n",
    "Fisher Equation: $ r = i - \\pi $; r = real interest, i = nominal interest, $\\pi$ = inflation"
   ]
  },
  {
   "cell_type": "markdown",
   "metadata": {},
   "source": [
    "## Lecture 3 \n",
    "\n",
    "Coupon Bond: pays owner fixed interest payment every year until maturity \n",
    "\n",
    "Discount Bond: Bought a price below face value and face value repaid at maturity \n",
    "\n",
    "** Present Value ** : A dollar paid a year from now is less valuable than a dollar today. Present value concept is useful as it allows us to compute today's value of any credit instrument just by adding up PV of all future payments received and compare the value of two instruments with very different timing of their payments. "
   ]
  },
  {
   "cell_type": "markdown",
   "metadata": {},
   "source": [
    "$$ \\text{PV of future 1 dollar} = \\frac{\\text{1 dollar}}{(1+i)^n} = \\frac{\\text{PV}}{(1+i)^n}$$"
   ]
  },
  {
   "cell_type": "markdown",
   "metadata": {},
   "source": [
    "** Yield To Maturity** : Interest rates that equates PV of payments received from instrument with its value today. It is the most accurate way to compute interest rate. \n",
    "\n",
    "$$ P^b = \\sum_{s=1}^n = \\frac{CF}{(1+i)^s} $$ \n",
    "\n",
    "i = discount rate, CF = cash flow"
   ]
  },
  {
   "cell_type": "markdown",
   "metadata": {},
   "source": [
    "Bond price depends on: \n",
    "\n",
    "- Future payments or cash flow (CF)\n",
    "- Discount Rate of yield-to-maturity (i)\n",
    "\n",
    "Implications: \n",
    "\n",
    "- Expectations about discount rate are very important \n",
    "- ** Higher ** Discount Rates (i) implies ** lower ** bond price $(P^b)$\n",
    "\n",
    "Unless holding to maturity, long term bonds are risky investments\n",
    "\n",
    "Short term bonds are less exposed to interest-rate risk $\\rightarrow$ relatively safe \n",
    "\n",
    "Recall Fisher Equation: $r = i - \\pi \\rightarrow i = r + \\pi $\n",
    "\n",
    "- Higher inflation expectations should be compensated with higher yield \n",
    "- Inflation reduces value of fixed payments"
   ]
  },
  {
   "cell_type": "markdown",
   "metadata": {},
   "source": [
    "Differences Between Stocks and Bonds: \n",
    "\n",
    "- Bonds: \n",
    "    - Fixed payments \n",
    "    - Finite life maturity \n",
    "    \n",
    "- Stocks: \n",
    "    - Variable payments ('dividends') \n",
    "    - Do not have set maturity "
   ]
  },
  {
   "cell_type": "markdown",
   "metadata": {},
   "source": [
    "Price of A Stock = $$ P_{stock} = \\sum_{s=1}^\\infty \\frac{DIV}{(1+\\rho)^s}$$\n",
    "\n",
    "Depends on: \n",
    "\n",
    "- Expected dividend payments \n",
    "- Expected discount rate "
   ]
  },
  {
   "cell_type": "markdown",
   "metadata": {},
   "source": [
    "Price Earning Ratio: \n",
    "$$\\frac{P_{stock}}{E} = \\frac{DIV/E}{\\rho - g} = \\frac{k}{\\rho - g} $$ "
   ]
  },
  {
   "cell_type": "markdown",
   "metadata": {},
   "source": [
    "In the short run: Exptected increases in inflation hurt stock prices \n",
    "\n",
    "Similarly with bonds: increase in nominal interest = r + $\\pi^e$ increase $\\rightarrow P_{stock}$ falls\n",
    "\n",
    "In the long run: Stocks provide relatively good hedge against inflation"
   ]
  },
  {
   "cell_type": "markdown",
   "metadata": {},
   "source": [
    "## Lecture 4 \n",
    "\n",
    "$$\\text{Aggregate Production Function} = Y = F(A,N,K) = A*F(N,K) $$ \n",
    "\n",
    "$$\\text{Cobb Douglas} = Y = AK^aN^{1-a}, 0 < a < 1$$ \n",
    "\n",
    "$MPK = \\frac{\\Delta Y}{\\Delta K} , MPK > 0$ \n",
    "\n",
    "$MPN = \\frac{\\Delta Y}{\\Delta N} $ \n",
    "\n",
    "$$ \\text{Can rewrite Cobb Douglas as:} = \\frac{Y}{N} = A^{\\frac{1}{1-a}}  \\frac{K}{Y}^\n",
    "{\\frac{a}{1-a}}$$ "
   ]
  },
  {
   "cell_type": "markdown",
   "metadata": {},
   "source": [
    "$$ \\text{Growth Accounting Equation} = \\Delta Y/Y = \\Delta A/A + a_k \\Delta K/K + a_N \\Delta N/N $$ \n",
    "\n",
    "$a_k = \\Delta Y / \\Delta K * K/Y$ \n",
    "\n",
    "$a_N = \\Delta Y / \\Delta N * N/Y $ "
   ]
  },
  {
   "cell_type": "markdown",
   "metadata": {},
   "source": [
    "## Lecture 5 \n",
    "\n",
    "$ MPN = w $ \n",
    "\n",
    "If $MPN > w$, firms can increase profits by increasing N. Similarly, if $MPN < w$, firms can increase profits by decreasing N. "
   ]
  },
  {
   "cell_type": "markdown",
   "metadata": {},
   "source": [
    "Factors that Shift ND: \n",
    "\n",
    "- Increase in Productivity $\\rightarrow$ ND increases\n",
    "- Increase in Capital Stock $\\rightarrow$ ND increases\n",
    "\n",
    "Factors that shift NS: \n",
    "\n",
    "- Increase in Wealth $\\rightarrow$ NS decreases \n",
    "- Increase in expected future wage $\\rightarrow$ NS decreases \n",
    "- Increase in working population $\\rightarrow$ NS increases \n",
    "- Increase in participation rate $\\rightarrow$ NS increases "
   ]
  },
  {
   "cell_type": "markdown",
   "metadata": {},
   "source": [
    "Substitution Effect: w increases, NS increases \n",
    "\n",
    "Income Effect: w increases $\\rightarrow$ wealth increases, $\\rightarrow$ worker can afford more leisure $\\rightarrow$ NS decreases "
   ]
  },
  {
   "cell_type": "markdown",
   "metadata": {},
   "source": [
    "Differences in Unemployment: Europe \n",
    "\n",
    "1. Firing Restrictions \n",
    "2. Centralized Wage Setting \n",
    "3. Powerful unions \n",
    "4. High minimum wages \n",
    "5. Generous unemployment benefits \n",
    "6. Differences in tax rates "
   ]
  },
  {
   "cell_type": "markdown",
   "metadata": {},
   "source": [
    "## Lecture 6 "
   ]
  },
  {
   "cell_type": "markdown",
   "metadata": {
    "collapsed": true
   },
   "source": [
    "$$ S^d = Y - C^d - G$$ \n",
    "\n",
    "$$ \\text{recall} \\space Y = C + I + G + NX, \\space \\text{assume NX = 0} $$ \n",
    "\n",
    "$$ S^d = I^d $$ \n",
    "\n",
    "$$I^d = K^f - (1- \\delta)K, \\space K^f = \\space \\text{future depreciation} \\space \\text{and K = depreciation} $$ "
   ]
  },
  {
   "cell_type": "markdown",
   "metadata": {},
   "source": [
    "Intertemporal Consumption Model: Assumes consumer is forward looking and chooses consumption for present and future to maximize lifetime satisfacion. Consumer has trade off between current consumption and future consumption. \n",
    "\n",
    "$\\rightarrow$ consuming more today means less saving today. Less saving today means resources for future consumption tomorrow will be lower. \n",
    "\n",
    "$$\\text{Consumer's Budget Constraint} \\space = a^f = (a+y-c)(1+r) $$ \n",
    "\n",
    "$$\\text{Future consumption} \\space = c^f = (a+y-c)(1+r)+y^f $$ \n",
    "\n",
    "$$\\text{Present value budget constraint} = PVLC = \\frac{c+c^f}{1+r} = \\frac{a+y+y^f}{1+r} = PVLR $$ "
   ]
  },
  {
   "cell_type": "markdown",
   "metadata": {},
   "source": [
    "Slope = $-(1+r)$ = MRT (marginal rate of transformation) \n",
    "\n",
    "Lifetime Utility: $U = u(c) + \\beta*u(c^f)$\n",
    "\n",
    "$ MRT = -(1+r) = -\\frac{u'(c)}{\\beta u'(c^f)} = MRS $ \n",
    "\n",
    "Saving = $y-c$"
   ]
  },
  {
   "cell_type": "markdown",
   "metadata": {},
   "source": [
    "Life Cycle Hypothesis: Stresses income varies over life-cycle and savings allows to transfer income from high income to low income periods \n",
    "\n",
    "Permanent Income Hypothesis: Current consumption depends on more than just current income. Income is subject to random changes over time. \n",
    "$\\rightarrow$ PVLC = PVLR $\\rightarrow$ consumers like to smooth marginal utility "
   ]
  },
  {
   "cell_type": "markdown",
   "metadata": {},
   "source": [
    "Unexpected Increase in current income: $C,C^f$ increase and $S$ increase \n",
    "\n",
    "Unexpected Increase in permanent income: $C,C^f$ increase and S unchanged \n",
    "\n",
    "Unexpected Increase in wealth: $C,C^f$ increase and $S$ falls "
   ]
  },
  {
   "cell_type": "markdown",
   "metadata": {},
   "source": [
    "** Summary: ** \n",
    "\n",
    "Increase in Assets $\\rightarrow$ C increase, $C^f$ increase, S decrease \n",
    "\n",
    "Increase in Current Income $\\rightarrow$ C increase, $C^f$ increase, S increase \n",
    "\n",
    "Increase in future income $\\rightarrow$ C increase, $C^f$ increase, S decrease\n",
    "\n",
    "Current and future income increase $\\rightarrow$ C,$C^f$ increase, S little or no change "
   ]
  },
  {
   "cell_type": "markdown",
   "metadata": {},
   "source": [
    "## Lecture 7 \n",
    "\n",
    "Recall: $ MRT = -(1+r) = \\frac{u'(c)}{\\beta u'(c^f)} = MRS $ \n",
    "\n",
    "An increase in real interest rate produces an increase of price of today's consumption relative to future consumption \n",
    "\n",
    "Substitution Effect: \n",
    "\n",
    "R increase $\\rightarrow$  relative to price of  c increase compared to $c^f$ \n",
    "\n",
    "$\\rightarrow$  incentive to save; s increase \n",
    "\n",
    "Income Effect: \n",
    "\n",
    "For borrowers: r increase $\\rightarrow$  PVLR decrease, c decrease and s increase \n",
    "\n",
    "For lenders: r increase $\\rightarrow$  PVLR increase, c increase and s decrease \n",
    "\n",
    "** Summary of Fisher and PIH model: ** \n",
    "\n",
    "1. Increase in current income increases current and future C and increases S \n",
    "2. Increase in future income/wealth increases current and future C but decrease S \n",
    "3. Increase in real interest decrease current C but increase future C and S for lender if substitution > income \n",
    "4. Increase in real interest increase current and future C but decrease S for lender if income > substitution\n",
    "5. Increase in real interest decrease C and increase S for borrower, but may increase or decrease future C "
   ]
  },
  {
   "cell_type": "markdown",
   "metadata": {},
   "source": [
    "Effects of Govn't spending: \n",
    "\n",
    "Let Y be fixed and G increased through lump-sum taxes \n",
    "\n",
    "$\\rightarrow T \\uparrow \\rightarrow (Y-T)\\downarrow \\rightarrow PVLR \\downarrow \\rightarrow C \\downarrow \\rightarrow S_{pvt} \\downarrow \\rightarrow S \\downarrow $\n",
    "\n",
    "$\\rightarrow T^f \\uparrow \\rightarrow (Y^f - T^f) \\downarrow \\rightarrow PVLR \\downarrow \\rightarrow C \\downarrow \\rightarrow S_{pvt} \\uparrow \\rightarrow S \\downarrow $ "
   ]
  },
  {
   "cell_type": "markdown",
   "metadata": {},
   "source": [
    "Effects of Lump-Sum Taxes \n",
    "\n",
    "1. T $\\downarrow \\rightarrow PVLR \\uparrow \\rightarrow C \\uparrow and S_{pvt} \\uparrow \\rightarrow S \\downarrow$ \n",
    "2. T $\\downarrow$ but consumers know $S_{govt} \\downarrow$ then $T\\uparrow \n",
    "\\rightarrow PVLR \\text{~} \\rightarrow C \\rightarrow and S_{pvt} \\uparrow \\rightarrow S \\rightarrow $"
   ]
  },
  {
   "cell_type": "markdown",
   "metadata": {},
   "source": [
    "Expected after tax real interest rate: $(1-\\tau)i - \\pi^e$ "
   ]
  },
  {
   "cell_type": "markdown",
   "metadata": {},
   "source": [
    "## Lecture 8 \n",
    "\n",
    "User Cost of capital = $uc = (1+r)p_k - (1-d)p_k = (r+d)p_k$ \n",
    "\n",
    "d is depreciation rate and $p_k$ is the real price of capital goods "
   ]
  },
  {
   "cell_type": "markdown",
   "metadata": {},
   "source": [
    "$MPK^f = \\frac{uc}{1-\\tau} = \\frac{(r+d)p_k}{1-\\tau}$"
   ]
  },
  {
   "cell_type": "markdown",
   "metadata": {},
   "source": [
    "** Determinants of $I^d$ ** \n",
    "\n",
    "1. Expected MPK $\\rightarrow I^d \\uparrow$ since higher expected return on investment\n",
    "2. r $\\rightarrow I^d \\downarrow$ since higher user cost \n",
    "3. Profit $\\rightarrow I^d \\uparrow$ since increase funds for investment \n",
    "4. Credit conditions $\\rightarrow I^d \\uparrow$ since increase funds for investment \n",
    "5. Effective tax rate $\\rightarrow I^d \\downarrow$ since higher tax-ajusted user cost "
   ]
  },
  {
   "cell_type": "markdown",
   "metadata": {},
   "source": [
    "Recall: $S^d$ is desired savings. $S^d = S_{pvt}+S_{govt} = Y - C^d - G = I^d$\n",
    "\n",
    "** Shifts in Savings Curve**: \n",
    "\n",
    "1. Changes in expected future output\n",
    "2. Changes in wealth \n",
    "3. Changes in govnt purchases \n",
    "4. Changes in taxes (unless Ricardian equivalence holds) \n",
    "\n",
    "** Shifts in Investment Curve**: \n",
    "\n",
    "1. Changes in effective corporate tax rate \n",
    "2. Changes in credit frictions \n",
    "3. Changes in expected future marginal productivity of capital \n",
    "4. Changes in price of capital "
   ]
  },
  {
   "cell_type": "markdown",
   "metadata": {},
   "source": [
    "## Lecture 9 "
   ]
  },
  {
   "cell_type": "markdown",
   "metadata": {},
   "source": [
    "In a closed economy, r adjust until $S^d = I^d$. \n",
    "\n",
    "In an open economy, for given world interest $r^w, S^d = I^d + CA$ \n",
    "\n",
    "If $S^d < I^d, \\rightarrow CA < 0$ \n",
    "\n",
    "If $S^d > I^d, \\rightarrow CA > 0$ "
   ]
  },
  {
   "cell_type": "markdown",
   "metadata": {},
   "source": [
    "**CA = Current Account** : Accounts for flows of goods and services \n",
    "\n",
    "** FA = Financial Account **: Accounts for flows of financial assets \n",
    "\n",
    "** CapA = Capital Account **: Flow of special assets (non-market, non-produced, etc.) \n",
    "\n",
    "$$ \\text{General Rule: Credit (+): funds flow into home country, Debit(-): funds flow out of home country} $$ "
   ]
  },
  {
   "cell_type": "markdown",
   "metadata": {},
   "source": [
    "$$ CA = NX + NFP + NUT $$ \n",
    "\n",
    "Capital Account= unilateral transfers of assets \n",
    "\n",
    "Financial Account = financial flow in exchange for assets \n",
    "\n",
    "KFA = capital and financial account balance \n",
    "\n",
    "$$ CA + KFA = 0 $$ \n",
    "\n",
    "If CA < 0, country sells assets and KFA > 0\n",
    "\n",
    "If CA > 0, country buys assets and KFA < 0 "
   ]
  },
  {
   "cell_type": "markdown",
   "metadata": {},
   "source": [
    "## Lecture 10 \n",
    "\n",
    "Money is a: \n",
    "\n",
    "- Medium of Exchange (allows for specialization and comparative adv.) \n",
    "- Store of Value \n",
    "- Unit of account (compare heterogenerous goods/services) \n",
    "\n",
    "Changes in Money supply: \n",
    "\n",
    "Central bank buys financial assets $\\rightarrow M^s \\uparrow$ \n",
    "\n",
    "Centbra bank sells financial assets $\\rightarrow M^s \\downarrow$ "
   ]
  },
  {
   "cell_type": "markdown",
   "metadata": {},
   "source": [
    "** Determinants of Money Demand ** : \n",
    "\n",
    "1. Price Level\n",
    "\n",
    "    - Money demand is proportional to price level \n",
    "    - Higher prices increase peoples need to hold money, thus $M^d$ increase \n",
    "\n",
    "2. Real income \n",
    "\n",
    "    - Higher real income increase $M^d$ \n",
    "    - Higher income increases $M^d$ \n",
    "\n",
    "3. Interest Rates \n",
    "\n",
    "    - Higher interest reduces $M^d$ "
   ]
  },
  {
   "cell_type": "markdown",
   "metadata": {},
   "source": [
    "$$\\text{Nominal Money Demand} = M^d = P*L(Y,i)$$ \n",
    "\n",
    "$$\\text{Real Money Demand} = \\frac{M^d}{P} = L(Y,i) = L(Y, r+\\pi^e)$$"
   ]
  },
  {
   "cell_type": "markdown",
   "metadata": {},
   "source": [
    "** Shifts in Money Demand **: \n",
    "\n",
    "- Increase in P $\\rightarrow M^d$ increases \n",
    "- Increase in Y $\\rightarrow M^d$ increase \n",
    "- Increase in r $\\rightarrow M^d$ falls \n",
    "- Increase in $\\pi^e$ $\\rightarrow M^d$ fall \n",
    "- Increase in $i^m$ (nominal interest on money) $\\rightarrow M^d$ increase \n",
    "- Increase in wealth $\\rightarrow M^d$ increase \n",
    "- Increase in risk $\\rightarrow M^d$ increase if risk of alt. asset increases; falls if risk of money increases \n",
    "- Increase in liquidity of alt. asset $\\rightarrow M^d$ decrease \n",
    "- Increase in efficient payment tech. (credit cards) $\\rightarrow M^d$ decrease "
   ]
  },
  {
   "cell_type": "markdown",
   "metadata": {},
   "source": [
    "** Velocity of Money **: $ V = \\frac{PY}{M} = \\frac{Y}{M/P} = \\frac{Y}{L(Y,i)}$\n",
    "\n",
    "When velocity rises, each dollar of money stock is being used in greater volume of transactions in each period. \n",
    "\n",
    "Quantity theory of money: velocity is constant. "
   ]
  },
  {
   "cell_type": "markdown",
   "metadata": {},
   "source": [
    "Asset Market Equilibrium: \n",
    "\n",
    "$M^d +  NM^d =$ \n",
    "\n",
    "$M^s + NM^s =$ \n",
    "\n",
    "So $M^d +  NM^d =$ $M^s + NM^s $ implies $M^d = M^s$ and $NM^d = NM^s$ \n",
    "\n",
    "Thus equilibrium is $\\frac{M^s}{P} = L(Y, r+\\pi^e)$"
   ]
  },
  {
   "cell_type": "markdown",
   "metadata": {},
   "source": [
    "Money market equilibrium in growth rates: \n",
    "\n",
    "$\\Delta M/M = \\Delta P/P + \\Delta L(Y,i)/L(Y,i)$ \n",
    "\n",
    "Let $\\Delta L(Y,i)/L(Y,i) \\approx \\eta_Y \\Delta Y/Y + \\eta_i \\Delta i/i$ \n",
    "\n",
    "$\\eta_y, \\eta_i$ is the elasticity of money demand to output and nominal interest rate i \n",
    "\n",
    "Inflation rate = $\\Delta M/M - \\eta_y\\Delta Y/Y - \\eta_i \\Delta i/i$ "
   ]
  },
  {
   "cell_type": "markdown",
   "metadata": {},
   "source": [
    "During a credit crunch, financial intermediaries want to hold most liquid assets and least risky assets. The cost of borrowing for firms will be $r+ premium$. Thus credit crunch increases premium and shifts investment left (decrease I) \n",
    "\n",
    "A ** Yield Curve ** graphs the interest rate for a given security with differing maturities. \n",
    "\n",
    "Solving for long-term interest rate as a function of short-term rate: \n",
    "\n",
    "$ i_{0,2} = [(1+i_{0,1})*(1+i_{1,2})]^{1/2} -1 $ "
   ]
  },
  {
   "cell_type": "markdown",
   "metadata": {},
   "source": [
    "** Liquidity Premium** : Short-term assets more liquid than long-term assets then a premium exists. An increase in demand for long-term US asset will cause yield curve to flatten. \n",
    "\n",
    "** Uncertainty to future**: Long-term bonds are more riskier than short-term, thus a premium exists. A decline in uncertainty could flatten yield curves"
   ]
  },
  {
   "cell_type": "markdown",
   "metadata": {},
   "source": [
    "## Lecture 11 \n",
    "\n",
    "** Labour Market Equilibrium (FE line) **\n",
    "\n",
    "Recall: $N^s = N^d$ \n",
    "\n",
    "Corresponding full employment level of output: $\\bar Y = AF(K,\\bar N)$\n",
    "\n",
    "FE line is given by Y = $\\bar Y$ and is independent of interest rate. So r doesnt affect $N^s, N^d$. \n",
    "\n",
    "** Any change that shifts $N^d$ or $N^s$ left (right) will shift FE line left (right) ** \n",
    "\n",
    "1. Beneficial Supply shock $\\rightarrow$ FE increases \n",
    "2. Increase in $N^s$ $\\rightarrow$ FE increases \n",
    "3. Increase in capital stock $\\rightarrow$ FE increases "
   ]
  },
  {
   "cell_type": "markdown",
   "metadata": {},
   "source": [
    "** Loanable Funds Market Equilibrium (IS Curve) ** \n",
    "\n",
    "Recall: Aggregate Demand: $Y^d = C^d + I^d + G$, Desired Savings $S^d = Y - C^d - G$, thus $S^d = I^d$\n",
    "\n",
    "$I^d = K^f - (1- \\delta)K, \\space K^f = \\space \\text{future depreciation} \\space \\text{and K = depreciation} $\n",
    "\n",
    "As Y rises, Sd increases. Therefore r decreases \n",
    "\n",
    "IS is downward sloping in (r,Y) space\n",
    "\n",
    "** Determinants of IS curve ** \n",
    "- Anything that shifts C,I,G (also NX) \n",
    "- Any change that increase $S^d$ relative to $I^d$ will decrease IS \n",
    "- Any change that decrease $S^d$ relative to $I^d$ will increase IS \n",
    "\n",
    "A change in r will not cause IS to shift (but a movement along IS curve) \n",
    "\n",
    "- An increase in expected future output $\\rightarrow$ IS increase since $S^d$ falls\n",
    "- Increase in Wealth $\\rightarrow$ IS increase since $S^d$ falls \n",
    "- Increase in G $\\rightarrow$ IS increase since $S^d$ falls \n",
    "- Increase in T, taxes $\\rightarrow$ IS unchanged (if consumers take into account offsetting future tax cut; ie Ricardian equivalence) or decrease \n",
    "- Increase in expected $MPK^f$ $\\rightarrow$ IS increase since $I^d$ increases\n",
    "- Increase in effective tax rate on capital $\\rightarrow$ IS decrease since $I^d$ falls "
   ]
  },
  {
   "cell_type": "markdown",
   "metadata": {},
   "source": [
    "** Asset Market Equilibrium (LM curve) ** \n",
    "\n",
    "Recall: $L(Y,r+\\pi^e) = \\frac{M^s}{P}$ \n",
    "\n",
    "As Y increases, money demand increases so LM increases thus r increases \n",
    "\n",
    "LM is upward sloping \n",
    "\n",
    "** Determinants of LM curve ** \n",
    "\n",
    "- Increase in M $\\rightarrow$ LM increases since $(M/P)\\uparrow$ and r decrease \n",
    "- Increase in P $\\rightarrow$ LM decrease since $(M/P)\\downarrow$ and r increase\n",
    "- Increase in $\\pi^e$ $\\rightarrow$ LM increase as MD falls and r decrease \n",
    "- Increase in i $\\rightarrow$ LM decrease since (i = (r+$\\pi) \\uparrow)$, r increase\n",
    "\n"
   ]
  },
  {
   "cell_type": "markdown",
   "metadata": {},
   "source": [
    "** IS-LM general equilibrium **: \n",
    "\n",
    "In SR, P is fixed and firms produce whatever demanded @ intersection of IS-LM \n",
    "\n",
    "In LR P adjusts to equilibrium @ intersection of FE-IS-LM \n",
    "\n",
    "Above Full-employment: \n",
    "\n",
    "- Firms produce whatever demanded \n",
    "- Firms increase P \n",
    "- $M^s/P$ decrease and LM decrease (shifts left) \n",
    "- r increases as a result \n",
    "\n",
    "Below Full-employment: \n",
    "\n",
    "- Firms accumulate inventory \n",
    "- Firms decrease P (M increase) \n",
    "- $M^s/P$ increase and LM increase (shifts right) \n",
    "- r decrease as a result \n",
    "\n",
    "** Monetary Neutrality **: In LR, real quantities are determined not by nominal values, but by real factors such as technology, labour market frictions, etc. \n",
    "\n",
    "$\\rightarrow$ no change in employment, output or real interest rate r. Price level P is higher by the same proportion as increase in $M^s$. All real variables (including real wage) are unchanged, while nominal variables have risen proportionately with change in $M^s$. "
   ]
  },
  {
   "cell_type": "markdown",
   "metadata": {},
   "source": [
    "## Lecture 12 \n",
    "\n",
    "Recall: General Equilibrium of FE-IS-LM curves are in (Y,r) space \n",
    "\n",
    "General Equilibrium in (Y,P) space is the AS-AD representation \n",
    "\n",
    "IS-LM represents eq. in (Y,r) space, *suitable for analysis of savings and investment. *\n",
    "\n",
    "AS-AD model has eq. in (Y,P) space, *suitable for studying link between inflation and output*\n",
    "\n",
    "SRAS: In SR, prices are fixed and firms produce whatever demanded at that P (horizontal line)\n",
    "\n",
    "LRAS: prices adjust st labour market is in eq. (ie. $N^s = N^d$). LRAS is a vertical line at $\\bar Y$. This is analagous to FE line \n",
    "\n",
    "AD curve represents the demand side of economy responding to changes in P. Prices influence r, which affect C and I. "
   ]
  },
  {
   "cell_type": "markdown",
   "metadata": {},
   "source": [
    "** FACTORS THAT SHIFT IS CURVE UP ALSO SHIFT AD CURVE UP ** \n",
    "\n",
    "** FACTORS THAT SHIFT LM CURVE DOWN ALSO SHIFT AD CURVE UP ** \n",
    "\n",
    "Overheated economy: Output is above full employment. Prices eventually adjust up and SRAS shift up \n",
    "\n",
    "Weak economy: Output is below full employment. Prices eventually decrease and SRAS shift down "
   ]
  },
  {
   "cell_type": "markdown",
   "metadata": {},
   "source": [
    "## Lecture 13 \n",
    "\n",
    "1. Classical View: Prices adjust quickly (only real shocks generate business cycle fluctuations) \n",
    "2. Keynesian View: Prices adjust over time (both real and nominal shocks generate business cycle fluctuations) \n",
    "\n",
    "Recall: SR eq. has AD = SRAS and IS = LM and LR eq. has AD = SRAS = $\\bar Y$, IS = LM = $\\bar Y$ and $N^d = N^s = \\bar N$. "
   ]
  },
  {
   "cell_type": "markdown",
   "metadata": {},
   "source": [
    "Causes of a recession: \n",
    "\n",
    "1. Temp./Permanent changes in techology productivity \n",
    "2. Increases in relative prices of inputs \n",
    "3. Bad (or good) economic policy \n",
    "4. External conditions: risk on premium of country's borrowing, terms of trade shocks \n",
    "5. Shocks to expectations: fear of stock market overvaluation\n",
    "\n",
    "Supply Shocks (oil and technology/productivity): When input is more expensive, firms will use less of it and produce less. Cause unemployment and prices to move in the same direction \n",
    "\n",
    "Demand shocks (M,G,T, consumer confidence): cause unemployment and prices to move in opposite directions. Supply shocks could have demand effects "
   ]
  },
  {
   "cell_type": "markdown",
   "metadata": {},
   "source": [
    "Classical View of Business Cycles: \n",
    "\n",
    "- Prices Adjust quickly \n",
    "- Economy always at FE \n",
    "- Only real shocks affect economy (shift FE line) \n",
    "- Nominal shocks (shocks affecting LM) cannot affect economy \n",
    "\n",
    "$\\rightarrow$ Monetary policy is ineffective. Fiscal policy through govnt spending affects $N^s$, but think fiscal policy is uneffective \n",
    "\n",
    "Keynesian View of Business Cycles: \n",
    "\n",
    "- Prices do not adjust in SR \n",
    "- Firms produce whatever is demanded in SR \n",
    "- Fiscal and Monetary Policy is effective tools, however policies take time to implement and take effect"
   ]
  },
  {
   "cell_type": "markdown",
   "metadata": {},
   "source": [
    "## Lecture 14 \n",
    "\n",
    "Recall: Is there a trade-off between unemployment and inflation? \n",
    "\n",
    "- Classical View: No\n",
    "- Keynesian View: Yes (SR price rigidity makes it possible for policy makers to increase output or lower unemployment at the cost of higher prices in future) \n",
    "\n",
    "\n",
    "1. Monopolistic Competition \n",
    "    - If different goods/services were perfectly competitive, the market would force prices to adjust rapidly, otherwise firms with a low (high) price would take (lose) all of the market \n",
    "    - In most markets, sellers have some degree of monopoly power \n",
    "    - In monopolistically competitive markets, sellers do 3 things: \n",
    "    - Set prices in nominal terms and maintain those prices for some period \n",
    "    - Adjust output to meet demand for fixed nominal price \n",
    "    - Reoptimize prices from time to time as costs and demand change \n",
    "\n",
    "2. Menu Costs: The cost of adjusting prices \n",
    "    - In the absense of menu costs, firms set prices as constant markup over marginal cost to max profit\n",
    "    - In presense of menu costs, firms keep prices fixed if cost of adjustment > profit losses from keeping prices fixed \n"
   ]
  },
  {
   "cell_type": "markdown",
   "metadata": {},
   "source": [
    "** Implications ** : \n",
    "\n",
    "SRAS is upward sloping \n",
    "\n",
    "Frequency of price adjustment depends on: \n",
    "    - Degree of competition \n",
    "    - Cost of price adjustment \n",
    "    - Expectations about future inflation $\\pi^e$ \n",
    "    \n",
    "Expected inflation makes price increases more likely \n",
    "\n",
    "Expected inflation causes firms to make larger price increases \n",
    "\n",
    "$\\rightarrow$ Higher $\\pi^e$ lead to increase in $\\pi$\n",
    "\n"
   ]
  },
  {
   "cell_type": "markdown",
   "metadata": {},
   "source": [
    "Expectations-agumented Phillips curve: Friedman and Phelps claim cyclical unemployment ($u-\\bar u$) depends on unanticipated inflation ($\\pi - \\pi^e$). \n",
    "\n",
    "$$ \\pi - \\pi^e = -h(u-\\bar u) \\rightarrow \\pi = \\pi^e - h (u - \\bar u ) $$ \n",
    "\n",
    "$$ \\pi = \\pi^e, u = \\bar u $$ \n",
    "\n",
    "$$ \\pi < \\pi^e, u > \\bar u $$ \n",
    "\n",
    "$$ \\pi > \\pi^e, u < \\bar u $$ "
   ]
  },
  {
   "cell_type": "markdown",
   "metadata": {},
   "source": [
    "Only unexpected changes in inflation affect unemployment. \n",
    "\n",
    "Expectations catch up over time in actual inflations; une,ployment returns to natural rate \n",
    "\n",
    "** Shifts in either $\\pi^e$ or $\\bar u $ shift Phillips curve ** \n",
    "\n",
    "Summary: Expectations-augmented Phillips curve is capable of explaining inflation-unemployment relationship over past 50 years. "
   ]
  }
 ],
 "metadata": {
  "kernelspec": {
   "display_name": "Python 3",
   "language": "python",
   "name": "python3"
  },
  "language_info": {
   "codemirror_mode": {
    "name": "ipython",
    "version": 3
   },
   "file_extension": ".py",
   "mimetype": "text/x-python",
   "name": "python",
   "nbconvert_exporter": "python",
   "pygments_lexer": "ipython3",
   "version": "3.6.1"
  }
 },
 "nbformat": 4,
 "nbformat_minor": 2
}
