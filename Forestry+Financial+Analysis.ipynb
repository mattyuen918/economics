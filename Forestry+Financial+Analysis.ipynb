{
 "cells": [
  {
   "cell_type": "code",
   "execution_count": 1,
   "metadata": {
    "collapsed": true
   },
   "outputs": [],
   "source": [
    "import numpy as np"
   ]
  },
  {
   "cell_type": "markdown",
   "metadata": {},
   "source": [
    "# Forestry Financial Analysis \n",
    "\n",
    "Comparing revenues and costs that occur at different points in time is accomplished by discounting future payments back to a reference point. Conversely, past payments can be compounded forward towards a reference point. \n",
    "\n",
    "There are several \"costs\" associated with waiting on payments. These include opportunity costs, taking into account of risk, personal time preference, and accounting for inflation. "
   ]
  },
  {
   "cell_type": "markdown",
   "metadata": {},
   "source": [
    "## Interest and Discount Rates"
   ]
  },
  {
   "cell_type": "markdown",
   "metadata": {},
   "source": [
    "Investents growing at a specific rate is called *compounding*. This can be calculated with a formula: "
   ]
  },
  {
   "cell_type": "code",
   "execution_count": 4,
   "metadata": {
    "collapsed": true
   },
   "outputs": [],
   "source": [
    "def compounding(vi, i, n):\n",
    "    # vi is the initial value of investment\n",
    "    # i is the interest rate as a whole number\n",
    "    # n is the number of periods\n",
    "    i = i/100\n",
    "    return (vi*(1+i)**n)"
   ]
  },
  {
   "cell_type": "markdown",
   "metadata": {},
   "source": [
    "This formula can be used to calculate the future value of a single sum. "
   ]
  },
  {
   "cell_type": "markdown",
   "metadata": {},
   "source": [
    "### Example 1\n",
    "\n",
    "You invest $100 at 5% interest rate for 5 years. "
   ]
  },
  {
   "cell_type": "code",
   "execution_count": 5,
   "metadata": {},
   "outputs": [
    {
     "data": {
      "text/plain": [
       "127.62815625000003"
      ]
     },
     "execution_count": 5,
     "metadata": {},
     "output_type": "execute_result"
    }
   ],
   "source": [
    "compounding(100,5,5)"
   ]
  },
  {
   "cell_type": "markdown",
   "metadata": {},
   "source": [
    "Discounting begins with a future amount and determines its worth today."
   ]
  },
  {
   "cell_type": "code",
   "execution_count": 9,
   "metadata": {},
   "outputs": [],
   "source": [
    "def discounting(vf,d,n):\n",
    "    # vf is the future value\n",
    "    # d is the discount rate as a whole number\n",
    "    # n is the number of periods\n",
    "    d = d/100\n",
    "    return (vf/((1+d)**n))"
   ]
  },
  {
   "cell_type": "code",
   "execution_count": 10,
   "metadata": {},
   "outputs": [
    {
     "data": {
      "text/plain": [
       "100.00144462636939"
      ]
     },
     "execution_count": 10,
     "metadata": {},
     "output_type": "execute_result"
    }
   ],
   "source": [
    "discounting(127.63,5,5)"
   ]
  },
  {
   "cell_type": "markdown",
   "metadata": {},
   "source": [
    "## Net Present Value\n",
    "\n",
    "The Net Present Value (NPV) or Present Net Worth recognizes money's time value by using the minimum accepted rate of return to discount all costs and returns back to the time of project initiation. The discounted costs are then subtracted from the discounted revenues."
   ]
  },
  {
   "cell_type": "code",
   "execution_count": 11,
   "metadata": {
    "collapsed": true
   },
   "outputs": [],
   "source": [
    "def npv(revenue,cost):\n",
    "    return(revenue-cost)"
   ]
  },
  {
   "cell_type": "markdown",
   "metadata": {},
   "source": [
    "### Example 2\n",
    "\n",
    "Site preparation and planting take place at year 0. A weed control treatment is conducted at year 1. Precommercial thinning takes place at year 15. There is an annual administrative cost of $5/ha. Commercial thinning takes place during years 40 and 50 and the stand is cut at age 60. Let discount rate,d, = 5%. "
   ]
  },
  {
   "cell_type": "markdown",
   "metadata": {},
   "source": [
    "Site Preparation: $50\n",
    "\n",
    "Planting: $100\n",
    "\n",
    "Weed Control: $50\n",
    "\n",
    "Precommercial Thinning: $50\n",
    "\n",
    "Commercial Thinning Revenue at age 40: $500\n",
    "\n",
    "Commercial Thinning Revenue at age 50: $1500\n",
    "\n",
    "Clearcut Revenue: $2500"
   ]
  },
  {
   "cell_type": "markdown",
   "metadata": {},
   "source": [
    "**Solution** \n",
    "\n",
    "Discount Costs: "
   ]
  },
  {
   "cell_type": "code",
   "execution_count": 53,
   "metadata": {},
   "outputs": [],
   "source": [
    "ic=50+100\n",
    "discount_initial_cost = discounting(ic,5,0)"
   ]
  },
  {
   "cell_type": "code",
   "execution_count": 55,
   "metadata": {},
   "outputs": [],
   "source": [
    "discount_c1 = discounting(50,5,1) #discounted weed control"
   ]
  },
  {
   "cell_type": "code",
   "execution_count": 58,
   "metadata": {},
   "outputs": [],
   "source": [
    "discount_c2 = discounting(50,5,15) #discounted precommercial thinning"
   ]
  },
  {
   "cell_type": "markdown",
   "metadata": {},
   "source": [
    "To discount annual administrative costs: "
   ]
  },
  {
   "cell_type": "code",
   "execution_count": 29,
   "metadata": {
    "collapsed": true
   },
   "outputs": [],
   "source": [
    "def discount_annual(cost,rate,n):\n",
    "    # cost is the annual cost\n",
    "    # rate is interest or discount rate as a whole number\n",
    "    # n is the number of periods \n",
    "    rate = rate/100\n",
    "    return (cost*(1-(1+rate)**(-n))/(rate))"
   ]
  },
  {
   "cell_type": "code",
   "execution_count": 46,
   "metadata": {},
   "outputs": [],
   "source": [
    "discount_annual_cost = discount_annual(5,5,60)"
   ]
  },
  {
   "cell_type": "code",
   "execution_count": 63,
   "metadata": {
    "collapsed": true
   },
   "outputs": [],
   "source": [
    "discounting_ct40 = discounting(500,5,40) #discounting commercial thinning revenue at age 40"
   ]
  },
  {
   "cell_type": "code",
   "execution_count": 64,
   "metadata": {
    "collapsed": true
   },
   "outputs": [],
   "source": [
    "discounting_ct50 = discounting(1500,5,50) #discounting commercial thinning revenue at age 50"
   ]
  },
  {
   "cell_type": "code",
   "execution_count": 65,
   "metadata": {
    "collapsed": true
   },
   "outputs": [],
   "source": [
    "discounting_revenue = discounting(1500,5,60) #discounting revenue at age 60"
   ]
  },
  {
   "cell_type": "code",
   "execution_count": 66,
   "metadata": {},
   "outputs": [
    {
     "data": {
      "text/plain": [
       "282.1317172284507"
      ]
     },
     "execution_count": 66,
     "metadata": {},
     "output_type": "execute_result"
    }
   ],
   "source": [
    "revenue = discounting_revenue + discounting_ct50 + discounting_ct40\n",
    "revenue"
   ]
  },
  {
   "cell_type": "code",
   "execution_count": 67,
   "metadata": {},
   "outputs": [
    {
     "data": {
      "text/plain": [
       "316.3163501489467"
      ]
     },
     "execution_count": 67,
     "metadata": {},
     "output_type": "execute_result"
    }
   ],
   "source": [
    "costs = discount_initial_cost + discount_c1 + discount_c2 + discount_annual_cost\n",
    "costs"
   ]
  },
  {
   "cell_type": "code",
   "execution_count": 68,
   "metadata": {},
   "outputs": [
    {
     "data": {
      "text/plain": [
       "-34.18463292049597"
      ]
     },
     "execution_count": 68,
     "metadata": {},
     "output_type": "execute_result"
    }
   ],
   "source": [
    "npv(revenue,costs)"
   ]
  },
  {
   "cell_type": "markdown",
   "metadata": {},
   "source": [
    "### Example 3\n",
    "\n",
    "Year 0: Site Preparation costs $270$ and Planting costs $1100$\n",
    "\n",
    "Year 3: Brushing costs: $250$\n",
    "\n",
    "Year 14: Spacing costs: $800$\n",
    "\n",
    "Year 50: Final Harvest cost is $13190$ and sold harvest for $59975$\n",
    "\n",
    "Discount rate is 5%. \n",
    "\n",
    "Annual land management is $15"
   ]
  },
  {
   "cell_type": "markdown",
   "metadata": {},
   "source": [
    "** Solution** \n",
    "\n",
    "Discount revenue and costs"
   ]
  },
  {
   "cell_type": "code",
   "execution_count": 78,
   "metadata": {},
   "outputs": [],
   "source": [
    "vf = 59975-13190\n",
    "discount_revenue = discounting(vf,5,50)"
   ]
  },
  {
   "cell_type": "code",
   "execution_count": 71,
   "metadata": {
    "collapsed": true
   },
   "outputs": [],
   "source": [
    "initial_costs = 270+1100\n",
    "discount_initial_costs = discounting(initial_costs,5,0)"
   ]
  },
  {
   "cell_type": "code",
   "execution_count": 74,
   "metadata": {
    "collapsed": true
   },
   "outputs": [],
   "source": [
    "discount_c1 = discounting(250,5,3)\n",
    "discount_c2 = discounting(800,5,14)\n",
    "discounted_annual_cost = discount_annual(15,5,50)"
   ]
  },
  {
   "cell_type": "code",
   "execution_count": 79,
   "metadata": {},
   "outputs": [
    {
     "data": {
      "text/plain": [
       "1815.9737224652508"
      ]
     },
     "execution_count": 79,
     "metadata": {},
     "output_type": "execute_result"
    }
   ],
   "source": [
    "costs = initial_costs+discount_c1+discount_c2+discounted_annual_cost\n",
    "npv(discount_revenue,costs)"
   ]
  },
  {
   "cell_type": "markdown",
   "metadata": {},
   "source": [
    "## Internal Rate of Return\n",
    "\n",
    "The Internal Rate of Return shows the investment's actual rate of return. The IRR is the discount rate when the present value of the costs equal to the present value of the revenues or where NPV = 0. "
   ]
  },
  {
   "cell_type": "markdown",
   "metadata": {},
   "source": [
    "$$ NPV = \\sum_{n=0}^{N}\\frac{C_n}{(1+IRR)^n} = 0 $$ "
   ]
  },
  {
   "cell_type": "markdown",
   "metadata": {},
   "source": [
    "## Soil Rent or Land Expectation Value "
   ]
  },
  {
   "cell_type": "markdown",
   "metadata": {},
   "source": [
    "The Land Expectation Value (LEV) is the present value of all future costs and revenues of a productive asset. It is the value of bare forest land. Another name for this is the financial rotation or Faustmann Formula. "
   ]
  },
  {
   "cell_type": "markdown",
   "metadata": {},
   "source": [
    "$$ \\text{LEV = }\\frac{\\sum_{t=0}^T R_y(1+r)^{t-y} - \\sum_{t=0}^T C_y(1+r)^{t-y}}{(1+r)^t-1} - \\frac{a-c}{r} $$ "
   ]
  },
  {
   "cell_type": "markdown",
   "metadata": {},
   "source": [
    "t is the rotation age\n",
    "\n",
    "$R_y$ is the Revenue in year y, $C_y$ is the cost in year y\n",
    "\n",
    "y is the index for years\n",
    "\n",
    "r is the interest rate\n",
    "\n",
    "a is annual revenue (if any)\n",
    "\n",
    "c is annual cost (if any)"
   ]
  },
  {
   "cell_type": "code",
   "execution_count": 100,
   "metadata": {},
   "outputs": [],
   "source": [
    "def lev(t,revenue,cost,r,annualrevenue,annualcost):\n",
    "    r = r/100\n",
    "    if annualrevenue == 0:\n",
    "        annualcost = -1*annualcost\n",
    "        return ((revenue-cost)/((1+r)**t-1) - (annualrevenue-annualcost)/r)\n",
    "    return ((revenue-cost)/((1+r)**t-1) - (annualrevenue-annualcost)/r)"
   ]
  },
  {
   "cell_type": "markdown",
   "metadata": {},
   "source": [
    "### Example 4\n",
    "\n",
    "Using items from question 3:\n",
    "\n",
    "Year 0: Site Preparation costs $270$ and Planting costs $1100$\n",
    "\n",
    "Year 3: Brushing costs: $250$\n",
    "\n",
    "Year 14: Spacing costs: $800$\n",
    "\n",
    "Year 50: Final Harvest cost is $13190$ and sold harvest for $59975$\n",
    "\n",
    "Discount rate is 5%. \n",
    "\n",
    "Annual land management is $15"
   ]
  },
  {
   "cell_type": "code",
   "execution_count": 98,
   "metadata": {},
   "outputs": [],
   "source": [
    "revenue = 59975-13190 #revenue in year 50"
   ]
  },
  {
   "cell_type": "code",
   "execution_count": 85,
   "metadata": {
    "collapsed": true
   },
   "outputs": [],
   "source": [
    "c1 = (270+1100)*(1.05)**(50-0)"
   ]
  },
  {
   "cell_type": "code",
   "execution_count": 93,
   "metadata": {
    "collapsed": true
   },
   "outputs": [],
   "source": [
    "c2 = 350*(1.05)**(50-3)"
   ]
  },
  {
   "cell_type": "code",
   "execution_count": 94,
   "metadata": {
    "collapsed": true
   },
   "outputs": [],
   "source": [
    "c3 = 800*(1.05)**(50-14)"
   ]
  },
  {
   "cell_type": "code",
   "execution_count": 95,
   "metadata": {
    "collapsed": true
   },
   "outputs": [],
   "source": [
    "cost = c1+c2+c3"
   ]
  },
  {
   "cell_type": "code",
   "execution_count": 101,
   "metadata": {},
   "outputs": [
    {
     "data": {
      "text/plain": [
       "1894.82583761576"
      ]
     },
     "execution_count": 101,
     "metadata": {},
     "output_type": "execute_result"
    }
   ],
   "source": [
    "lev(50,revenue,cost,5,0,15)"
   ]
  }
 ],
 "metadata": {
  "kernelspec": {
   "display_name": "Python 3",
   "language": "python",
   "name": "python3"
  },
  "language_info": {
   "codemirror_mode": {
    "name": "ipython",
    "version": 3
   },
   "file_extension": ".py",
   "mimetype": "text/x-python",
   "name": "python",
   "nbconvert_exporter": "python",
   "pygments_lexer": "ipython3",
   "version": "3.6.1"
  }
 },
 "nbformat": 4,
 "nbformat_minor": 2
}
