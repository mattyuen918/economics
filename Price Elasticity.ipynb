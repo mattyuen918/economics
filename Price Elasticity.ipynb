{
 "cells": [
  {
   "cell_type": "markdown",
   "metadata": {},
   "source": [
    "# Price Elasticity "
   ]
  },
  {
   "cell_type": "markdown",
   "metadata": {},
   "source": [
    "Price Elasticity measures the responsiveness of the quantity demadned or quantity supplied of a good to a change in its price. It is computed as the percentage change in quantity ($\\Delta$%Q) demanded or supplied divided by the percentage change in price ($\\Delta$%P) "
   ]
  },
  {
   "cell_type": "markdown",
   "metadata": {},
   "source": [
    "$$\\text{Price Elasticity} = \\frac{\\Delta \\text{%} Q}{\\Delta \\text{%} P} $$"
   ]
  },
  {
   "cell_type": "markdown",
   "metadata": {},
   "source": [
    "Elastic demand or supply curves indicate that the quantity demanded or supplied responds to price changes in greater propertional manner. In other words, **small changes to price, result in large changes in quantity demanded or supplied. ** "
   ]
  },
  {
   "cell_type": "markdown",
   "metadata": {},
   "source": [
    "Inelastic demand or supply curve is one where a given percentage change in price will cause a smaller percentage change in quantity demanded or supplied. In other words, **small changes to price, results in small changes in quantity demanded or supplied. ** "
   ]
  },
  {
   "cell_type": "markdown",
   "metadata": {},
   "source": [
    "Unit elasticity means that a given percentage change in price leads to an equal percentage change in quantity demanded or supplied. "
   ]
  },
  {
   "cell_type": "markdown",
   "metadata": {},
   "source": [
    "#### If Price Elasticity is > 1, then the good is called elastic. \n",
    "\n",
    "#### If Price Elasticity is < 1, then the good is called inelastic. \n",
    "\n",
    "#### If Price Elasticity is = 1, then the good is called unit elastic. "
   ]
  },
  {
   "cell_type": "markdown",
   "metadata": {},
   "source": [
    "We can calculate $\\Delta$ % Q by $(\\frac{Q_2 - Q_1}{Q_1})*100$, and $\\Delta$ %P by $(\\frac{P_2 - P_1}{P_1})*100$  "
   ]
  },
  {
   "cell_type": "markdown",
   "metadata": {},
   "source": [
    "## Slope of the Curve"
   ]
  },
  {
   "cell_type": "markdown",
   "metadata": {},
   "source": [
    "The slope of the curve is not the same as the Price Elasticity. Mathematically, the slope of a line is represented by $\\frac{\\Delta \\text{%}y} {\\Delta \\text{%}x}$. "
   ]
  },
  {
   "cell_type": "markdown",
   "metadata": {},
   "source": [
    "The slope of a demand curve or supply curve represents the change in price divided by the change in quantity. "
   ]
  },
  {
   "cell_type": "markdown",
   "metadata": {},
   "source": [
    "#### It is important to note that the elasticity is not constant even if the slope of the demand or supply curve is constant and represented by straight lines"
   ]
  },
  {
   "cell_type": "markdown",
   "metadata": {},
   "source": [
    "We can calculate price elasticity of demand given the slope of a curve by multipying the reciprocal of slope of the demand curve by the ratio of price to quantity. \n",
    "\n",
    "$$ PED = \\frac{1}{\\text{slope}}*\\frac{p}{q} $$ "
   ]
  },
  {
   "cell_type": "markdown",
   "metadata": {},
   "source": [
    "Similarly, we can calculate price elasticity of supply the same way: \n",
    "$$PES = \\frac{1}{\\text{slope}}*\\frac{p}{q}$$ "
   ]
  }
 ],
 "metadata": {
  "kernelspec": {
   "display_name": "Python 3",
   "language": "python",
   "name": "python3"
  },
  "language_info": {
   "codemirror_mode": {
    "name": "ipython",
    "version": 3
   },
   "file_extension": ".py",
   "mimetype": "text/x-python",
   "name": "python",
   "nbconvert_exporter": "python",
   "pygments_lexer": "ipython3",
   "version": "3.6.1"
  }
 },
 "nbformat": 4,
 "nbformat_minor": 2
}
